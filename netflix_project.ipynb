{
 "cells": [
  {
   "cell_type": "code",
   "execution_count": null,
   "id": "e2354564-58ad-46b2-8a73-10d0d2ed68eb",
   "metadata": {},
   "outputs": [],
   "source": [
    "import pandas as pd\n",
    "import numpy as np\n",
    "import matplotlib.pyplot as plt \n"
   ]
  },
  {
   "cell_type": "code",
   "execution_count": null,
   "id": "55ce7d04-8b50-4f90-b60b-514dc4f6ac05",
   "metadata": {},
   "outputs": [],
   "source": [
    "#single line comment\n",
    "\"\"\"\n",
    "This\n",
    "is a\n",
    "multi\n",
    "line\n",
    "comment :)\n",
    "\"\"\"\n",
    "\n",
    "def csvtopdf(csv1) : \n",
    "    df1 = pd.read_csv(csv1, encoding = 'latin-1')\n",
    "    return df1\n",
    "    "
   ]
  },
  {
   "cell_type": "code",
   "execution_count": null,
   "id": "7f74938a-0db3-462b-b06c-012046574dbd",
   "metadata": {},
   "outputs": [],
   "source": [
    "df_customer = csvtopdf(\"customer.csv\")\n",
    "df_invoice  = csvtopdf(\"invoice.csv\")\n",
    "df_streams = csvtopdf(\"streams.csv\")\n",
    "df_content = csvtopdf(\"content.csv\")"
   ]
  },
  {
   "cell_type": "code",
   "execution_count": null,
   "id": "d8616cab-95e6-4478-8ab2-02959b42fdb9",
   "metadata": {},
   "outputs": [],
   "source": [
    "df_customer "
   ]
  },
  {
   "cell_type": "code",
   "execution_count": null,
   "id": "b0aedb12-bcfa-4bfd-b0ce-70658b6350d7",
   "metadata": {},
   "outputs": [],
   "source": [
    "df_invoice"
   ]
  },
  {
   "cell_type": "code",
   "execution_count": null,
   "id": "212aa495-adc9-4891-89bf-a78d73f2701a",
   "metadata": {},
   "outputs": [],
   "source": [
    "# calculate the invoice of users located in the USA \n",
    "df_customer_USA = df_customer [df_customer[\"Country\"] == \"United States\"]\n",
    "df_customer_USA"
   ]
  },
  {
   "cell_type": "code",
   "execution_count": null,
   "id": "fc98afa6-1145-4353-8632-1da61a8afa12",
   "metadata": {},
   "outputs": [],
   "source": [
    "df_customer[\"Country\"].unique()"
   ]
  },
  {
   "cell_type": "code",
   "execution_count": null,
   "id": "1e4846fa-8553-465a-9177-fc6d4f02e746",
   "metadata": {},
   "outputs": [],
   "source": [
    "country_counts = df_customer[\"Country\"].value_counts()"
   ]
  },
  {
   "cell_type": "code",
   "execution_count": null,
   "id": "bb7fee7a-a1bf-4252-a5fe-45655ab1e33c",
   "metadata": {},
   "outputs": [],
   "source": [
    "plt.figure(figsize = (10,6))\n",
    "country_counts.plot (kind='bar', color='lightgreen')\n",
    "plt.title(\"Frequency of Countries\")\n",
    "plt.xlabel(\"Country\")\n",
    "plt.ylabel(\"Frequency\")\n",
    "plt.xticks(rotation = 45) \n",
    "plt.show()\n"
   ]
  },
  {
   "cell_type": "code",
   "execution_count": null,
   "id": "e2833b30-f2c7-4f36-a8b0-4c3cd431a1f3",
   "metadata": {},
   "outputs": [],
   "source": [
    "\"\"\"\n",
    "Date:09/13/2024\n",
    "New code written with functions to convert String type data to float type data.\n",
    "\n",
    "\"\"\"\n",
    "\n",
    "def removeDollar(csv1, colname) : \n",
    "    df1 = pd.read_csv(csv1, encoding = 'latin-1')\n",
    "    curr_list = df1[colname].to_list()\n",
    "    for i in range(len(curr_list)):\n",
    "        curr_list[i] = curr_list[i].strip()\n",
    "        curr_list[i] = curr_list[i].strip(\"$\")\n",
    "        curr_list[i] = float(curr_list[i])\n",
    "    df1[\"Total\"] = np.array(curr_list)\n",
    "    return df1"
   ]
  },
  {
   "cell_type": "code",
   "execution_count": null,
   "id": "30f45367",
   "metadata": {},
   "outputs": [],
   "source": []
  },
  {
   "cell_type": "code",
   "execution_count": null,
   "id": "b611a537-db0e-4b53-8469-e2c91e073235",
   "metadata": {},
   "outputs": [],
   "source": [
    "df_content_clean = removeDollar(\"uscontent_filter.csv\", \"cost_per_stream\")\n",
    "df_invoice_clean = removeDollar(\"usinvoice_filter.csv\", \"Total\")"
   ]
  },
  {
   "cell_type": "code",
   "execution_count": null,
   "id": "8218cfef-bbb4-45e2-9d3f-7a8355e85aa7",
   "metadata": {},
   "outputs": [],
   "source": [
    "df_content_clean"
   ]
  },
  {
   "cell_type": "code",
   "execution_count": null,
   "id": "a001b614-a4d2-43b3-9110-77a56231709c",
   "metadata": {},
   "outputs": [],
   "source": [
    "df_invoice_clean"
   ]
  },
  {
   "cell_type": "code",
   "execution_count": null,
   "id": "46036060-51fe-45c6-bfd4-7c8c6480d4a9",
   "metadata": {},
   "outputs": [],
   "source": [
    "print(df_content_clean.info())"
   ]
  },
  {
   "cell_type": "code",
   "execution_count": null,
   "id": "29fad8c4-97cb-4f43-9591-3232236ec4ac",
   "metadata": {},
   "outputs": [],
   "source": [
    "print(df_invoice_clean.info())"
   ]
  },
  {
   "cell_type": "code",
   "execution_count": null,
   "id": "10ecf15e-716b-467e-a050-8915eaa185c8",
   "metadata": {},
   "outputs": [],
   "source": [
    "df_content_clean.to_csv('invoice_float.csv', index=False)\n",
    "df_invoice_clean.to_csv('content_float.csv', index=False)"
   ]
  },
  {
   "cell_type": "code",
   "execution_count": null,
   "id": "0ff22d52-473d-4b7d-bd67-1acc22d6dfff",
   "metadata": {},
   "outputs": [],
   "source": []
  }
 ],
 "metadata": {
  "kernelspec": {
   "display_name": "Python 3 (ipykernel)",
   "language": "python",
   "name": "python3"
  },
  "language_info": {
   "codemirror_mode": {
    "name": "ipython",
    "version": 3
   },
   "file_extension": ".py",
   "mimetype": "text/x-python",
   "name": "python",
   "nbconvert_exporter": "python",
   "pygments_lexer": "ipython3",
   "version": "3.11.3"
  }
 },
 "nbformat": 4,
 "nbformat_minor": 5
}
